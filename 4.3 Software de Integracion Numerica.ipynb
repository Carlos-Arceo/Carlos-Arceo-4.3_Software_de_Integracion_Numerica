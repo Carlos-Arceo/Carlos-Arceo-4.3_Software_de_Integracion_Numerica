{
 "cells": [
  {
   "cell_type": "markdown",
   "id": "widespread-baking",
   "metadata": {},
   "source": [
    "#MATERIA:\n",
    "    #MÉTODOS NUMÉRICOS\n",
    "\n",
    "#DOCENTE: \n",
    "    #MM. JORGE POOL CEN\n",
    "\n",
    "#INTEGRANTES DEL EQUIPO:\n",
    "    #UUH ARCEO CARLOS MANUEL |19070065\n",
    "    #KANTUN TUZ JEENRI RIQUELME |19070031\n",
    "    #CAB PEÑA ADRIÁN ARTURO |19070059\n",
    "    \n",
    "#UNIDAD IV:\n",
    "    #DIFERENCIACIÓN E INTEGRACIÓN NÚMERICA\n",
    "\n",
    "#ACTIVIDAD:\n",
    "    #SOFTWARE\n",
    "\n",
    "#FECHA DE ENTREGA:\n",
    "    # 02 DE JUNIO DE 2021"
   ]
  },
  {
   "cell_type": "markdown",
   "id": "baking-router",
   "metadata": {},
   "source": [
    "# CASO BASE DE TRAPECIO Y SIMPSON: Usando f(x)=x^2"
   ]
  },
  {
   "cell_type": "code",
   "execution_count": 11,
   "id": "exclusive-lewis",
   "metadata": {},
   "outputs": [],
   "source": [
    "#En esta parte se plasma la función y tambien se puede  cambiar, mientras sea un polinomio cuadratico, es lo que sirve en los casos base\n",
    "import math\n",
    "def fxi(x): \n",
    "    return math.pow(x,2)"
   ]
  },
  {
   "cell_type": "code",
   "execution_count": 12,
   "id": "representative-tomato",
   "metadata": {},
   "outputs": [],
   "source": [
    "#En esta función se aplica la formula del metodo Trapecio en caso base.\n",
    "def Trapecio(a,b,h_trapecio):\n",
    "    resultado =(h_trapecio/2) * (fxi(a)+fxi(b))\n",
    "    return resultado\n",
    "\n",
    "#Y en esta otra funcion es de la regla de metodo Simpson tambien en caso base.\n",
    "def Simpson(a,b,h_simpson):\n",
    "    resultado = (h_simpson/3) * (fxi(a)+4*fxi(a+1)+fxi(b))\n",
    "    return resultado"
   ]
  },
  {
   "cell_type": "code",
   "execution_count": 13,
   "id": "verbal-multiple",
   "metadata": {},
   "outputs": [],
   "source": [
    "#Aqui se piden al usuario los datos de limite inferior y superior por teclado.\n",
    "def principal():\n",
    "    a = float(input(\"Limite a: \"))\n",
    "    b = float(input(\"Limite b: \"))\n",
    "    #La h del metodo trapecio es b-a/2 sin embargo aqui solo se hizo b-a ya que en la función es donde se divite entre 2\n",
    "    h_trapecio = b-a\n",
    "    #En el caso del h del simpson eso si esta como (b-a)/2 y en la función se divira entre 3\n",
    "    h_simpson= (b-a)/2\n",
    "    trapecio = Trapecio(a,b,h_trapecio)\n",
    "    simpson = Simpson(a,b,h_simpson)\n",
    "    print(\"Resultados: \",\"Simpson =\",simpson,\"| Trapecio=\",trapecio, end=\"\\n\")"
   ]
  },
  {
   "cell_type": "code",
   "execution_count": 14,
   "id": "growing-removal",
   "metadata": {},
   "outputs": [
    {
     "name": "stdout",
     "output_type": "stream",
     "text": [
      "Limite a: 0\n",
      "Limite b: 2\n",
      "Resultados:  Simpson = 2.6666666666666665 | Trapecio= 4.0\n"
     ]
    }
   ],
   "source": [
    "principal()"
   ]
  },
  {
   "cell_type": "markdown",
   "id": "swiss-lecture",
   "metadata": {},
   "source": [
    "# CASO GENERAL DE  SIMPSON Y TRAPECIO: Usando f(x)= x ln x"
   ]
  },
  {
   "cell_type": "code",
   "execution_count": 15,
   "id": "little-easter",
   "metadata": {},
   "outputs": [],
   "source": [
    "#Aqui se se puede cambiar la función. \n",
    "import math\n",
    "def fx(x):\n",
    "    return x*math.log(x)"
   ]
  },
  {
   "cell_type": "code",
   "execution_count": 16,
   "id": "mathematical-harvey",
   "metadata": {},
   "outputs": [],
   "source": [
    "#Generamos un arreglo con las comprenssion de python\n",
    "# devuelve un arreglo[]\n",
    "def arregloEvaluacion(n,a,h):\n",
    "    aevaluaciones = [fx(a+i*h) for i in range(n+1)]\n",
    "    return aevaluaciones"
   ]
  },
  {
   "cell_type": "code",
   "execution_count": 17,
   "id": "solved-animal",
   "metadata": {},
   "outputs": [],
   "source": [
    "#afxi = arregloEvaluacion(n)\n",
    "#Se aplica la formula de simpson general, se hacen las sumas pares como \"sumap\" y las impares como \"sumaimp\"\n",
    "def simpson(afxi,n,h):\n",
    "    sumap = sum( [afxi[i] for i in range(1,n) if i%2==0])\n",
    "    sumaip = sum( [afxi[i] for i in range(1,n) if i%2!=0])\n",
    "    resultado =(h/3) * (afxi[0] + 2*sumap + 4 * sumaip +afxi[n])\n",
    "    #print(\"El resultado es:\",resultado)\n",
    "    return resultado "
   ]
  },
  {
   "cell_type": "code",
   "execution_count": 18,
   "id": "perfect-phone",
   "metadata": {},
   "outputs": [],
   "source": [
    "#afxi = arregloEvaluacion(n)\n",
    "#Aqui la formula de trapecio, en \"sumapt\" es la sumatoria de los fxi excepto el elemento inferior y la superior. \n",
    "def trapecio(afxi,n,h):\n",
    "    sumapt = sum( [afxi[i] for i in range(1,n)])\n",
    "    resultado =(h/2) * (afxi[0] + 2*sumapt+afxi[n])\n",
    "    #print(\"El resultado es:\",resultado)\n",
    "    return resultado "
   ]
  },
  {
   "cell_type": "code",
   "execution_count": 19,
   "id": "derived-munich",
   "metadata": {},
   "outputs": [],
   "source": [
    "#Aqui es pedir datos al usuario por teclado\n",
    "def principal():\n",
    "    n = int(input(\"Número de intervalos: \"))\n",
    "    a = float(input(\"Límite inferior: \"))\n",
    "    b = float(input(\"Límite Superior: \"))\n",
    "    h = (b-a)/n\n",
    "\n",
    "    #Se genera los fxi, afxi es el que guarda todos esos elemtentos, por lo que se convierte en un arreglo.\n",
    "    afxi = arregloEvaluacion(n,a,h)\n",
    "    rsimpson = simpson(afxi,n,h)\n",
    "    rtrapecio = trapecio(afxi,n,h)\n",
    "    print(\"Resultados\",\"Simpson=\",rsimpson,\"| Trapecio=\",rtrapecio,end=\"\\n\")"
   ]
  },
  {
   "cell_type": "code",
   "execution_count": 20,
   "id": "stunning-christianity",
   "metadata": {},
   "outputs": [
    {
     "name": "stdout",
     "output_type": "stream",
     "text": [
      "Número de intervalos: 4\n",
      "Límite inferior: 1\n",
      "Límite Superior: 2\n",
      "Resultados Simpson= 0.6363098297969492 | Trapecio= 0.639900477687986\n"
     ]
    }
   ],
   "source": [
    "principal()"
   ]
  },
  {
   "cell_type": "code",
   "execution_count": null,
   "id": "manufactured-trial",
   "metadata": {},
   "outputs": [],
   "source": []
  }
 ],
 "metadata": {
  "kernelspec": {
   "display_name": "Python 3",
   "language": "python",
   "name": "python3"
  },
  "language_info": {
   "codemirror_mode": {
    "name": "ipython",
    "version": 3
   },
   "file_extension": ".py",
   "mimetype": "text/x-python",
   "name": "python",
   "nbconvert_exporter": "python",
   "pygments_lexer": "ipython3",
   "version": "3.9.2"
  }
 },
 "nbformat": 4,
 "nbformat_minor": 5
}
